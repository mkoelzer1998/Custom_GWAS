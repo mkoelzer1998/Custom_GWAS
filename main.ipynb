{
 "cells": [
  {
   "cell_type": "code",
   "execution_count": 11,
   "metadata": {},
   "outputs": [],
   "source": [
    "import numpy as np"
   ]
  },
  {
   "cell_type": "markdown",
   "metadata": {},
   "source": [
    "Y = alpha_j + beta_j * X_j + epsilon_j"
   ]
  },
  {
   "cell_type": "code",
   "execution_count": 68,
   "metadata": {},
   "outputs": [],
   "source": [
    "class LinearRegressionModel:\n",
    "    def init(self, alphas, xs, Ys):\n",
    "        assert(len(alphas) == len(xs) == len(Ys))\n",
    "        self.alphas = alphas\n",
    "        self.xs = xs\n",
    "        self.Ys = Ys\n",
    "    def fit(self):\n",
    "        sum_squared_x = np.sum(self.xs**2)\n",
    "        sum_x_squared = np.sum(self.xs)**2\n",
    "        sum_xy = np.sum(self.xs*self.Ys)\n",
    "        sum_x_sum_y = np.sum(self.xs)*np.sum(self.Ys)\n",
    "        n = len(self.xs)\n",
    "\n",
    "        Beta = (sum_xy - (sum_x_sum_y / n)) / (sum_squared_x - (sum_x_squared / n))\n",
    "\n",
    "        \n",
    "        return Beta\n"
   ]
  },
  {
   "cell_type": "code",
   "execution_count": 72,
   "metadata": {},
   "outputs": [
    {
     "name": "stdout",
     "output_type": "stream",
     "text": [
      "5 9 5 14 45\n"
     ]
    },
    {
     "data": {
      "text/plain": [
       "1.5625"
      ]
     },
     "execution_count": 72,
     "metadata": {},
     "output_type": "execute_result"
    }
   ],
   "source": [
    "#test code\n",
    "xs = np.array([0, 0, 0, 1, 2])\n",
    "ys = np.array([1, 2, 3, 4, 5])\n",
    "alphas = np.ones(len(xs))\n",
    "\n",
    "model = LinearRegressionModel()\n",
    "model.init(alphas, xs, ys)\n",
    "model.fit()"
   ]
  },
  {
   "cell_type": "code",
   "execution_count": 37,
   "metadata": {},
   "outputs": [
    {
     "data": {
      "text/plain": [
       "array([ 0,  0,  0,  4, 10])"
      ]
     },
     "execution_count": 37,
     "metadata": {},
     "output_type": "execute_result"
    }
   ],
   "source": [
    "xs * ys"
   ]
  },
  {
   "cell_type": "code",
   "execution_count": 2,
   "metadata": {},
   "outputs": [
    {
     "name": "stdout",
     "output_type": "stream",
     "text": [
      "1\n"
     ]
    }
   ],
   "source": [
    "import vcf\n",
    "import pandas as pd\n",
    "\n",
    "def genoData(file):\n",
    "    vcf_reader = vcf.Reader(filename=file)"
   ]
  },
  {
   "cell_type": "code",
   "execution_count": null,
   "metadata": {},
   "outputs": [],
   "source": []
  },
  {
   "cell_type": "code",
   "execution_count": 106,
   "metadata": {},
   "outputs": [],
   "source": [
    "df = pd.read_table('gwas.phen', sep='\\s+', header=None)\n",
    "phen_values = df[2].to_numpy()\n",
    "phen_samples = df[0].to_numpy()"
   ]
  },
  {
   "cell_type": "code",
   "execution_count": 110,
   "metadata": {},
   "outputs": [
    {
     "name": "stdout",
     "output_type": "stream",
     "text": [
      "True\n"
     ]
    }
   ],
   "source": [
    "import vcf\n",
    "import pandas as pd\n",
    "vcf_reader = vcf.Reader(filename=\"gwas.vcf.gz\")\n",
    "count = 0\n",
    "Xj = {}\n",
    "vcf_samples = []\n",
    "\n",
    "for record in vcf_reader:\n",
    "    snp = []\n",
    "    for sample in record.samples:\n",
    "        vcf_samples.append(sample.sample)\n",
    "        gt_alleles = sample.gt_alleles\n",
    "        snp.append(int(gt_alleles[0] != '0') + int(gt_alleles[1] != '0')) #(gt_alleles[0] != 0) + ... # 0|2 -> 1\n",
    "    Xj[record.ID] = snp"
   ]
  }
 ],
 "metadata": {
  "kernelspec": {
   "display_name": "Python 3",
   "language": "python",
   "name": "python3"
  },
  "language_info": {
   "codemirror_mode": {
    "name": "ipython",
    "version": 3
   },
   "file_extension": ".py",
   "mimetype": "text/x-python",
   "name": "python",
   "nbconvert_exporter": "python",
   "pygments_lexer": "ipython3",
   "version": "3.10.11"
  }
 },
 "nbformat": 4,
 "nbformat_minor": 2
}
