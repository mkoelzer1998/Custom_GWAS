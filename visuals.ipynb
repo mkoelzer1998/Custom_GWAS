{
 "cells": [
  {
   "cell_type": "code",
   "execution_count": null,
   "metadata": {},
   "outputs": [],
   "source": [
    "import numpy as np\n",
    "import pandas as pd\n",
    "import matplotlib.pyplot as plt\n",
    "import vcf\n",
    "import pandas as pd\n",
    "from tqdm import tqdm\n",
    "import statsmodels.api as sm\n",
    "from qqman import qqman"
   ]
  },
  {
   "cell_type": "code",
   "execution_count": null,
   "metadata": {},
   "outputs": [],
   "source": [
    "df = pd.read_csv('output.csv')\n",
    "p_values = df['P'].to_numpy()"
   ]
  },
  {
   "cell_type": "code",
   "execution_count": null,
   "metadata": {},
   "outputs": [],
   "source": [
    "def QQPlot(pvals):\n",
    "    # Sort the observed p-values\n",
    "    pvals.sort()\n",
    "    # Generate numbers from a uniform distribution\n",
    "    n = len(pvals)\n",
    "    a = .375 if n<=10 else .5\n",
    "    unif = (np.arange(n) + 1 - a)/(n + 1 - 2*a)\n",
    "\n",
    "    # Make a QQ plot\n",
    "    fig = plt.figure()\n",
    "    ax = fig.add_subplot(111)\n",
    "    ax.scatter(-1*np.log10(unif), -1*np.log10(pvals), s=5, color=\"black\")\n",
    "    ax.plot([0, 6], [0,6])\n",
    "    # ax.set_xlim(left=0, right=3)\n",
    "    # ax.set_ylim(bottom=0, top=max(-1*np.log10([item for item in pvals if item >0])))\n",
    "    ax.set_xlabel(\"Expected -log10(P)\")\n",
    "    ax.set_ylabel(\"Observed -log10(P)\")"
   ]
  },
  {
   "cell_type": "code",
   "execution_count": null,
   "metadata": {},
   "outputs": [],
   "source": [
    "QQPlot(np.sort(p_values))"
   ]
  },
  {
   "cell_type": "code",
   "execution_count": null,
   "metadata": {},
   "outputs": [],
   "source": [
    "fig, (ax0, ax1) = plt.subplots(1, 2, gridspec_kw={'width_ratios': [2, 1]})\n",
    "fig.set_size_inches((15, 5))\n",
    "fig.suptitle(\"Results From Custom GWAS\")\n",
    "qqman.manhattan(df, ax=ax0)\n",
    "qqman.qqplot(df, ax=ax1)"
   ]
  },
  {
   "cell_type": "code",
   "execution_count": null,
   "metadata": {},
   "outputs": [],
   "source": [
    "# Upload ps3_gwas.assoc.linear from Problem Set 3\n",
    "# Code will not run without it\n",
    "data = pd.read_csv(\"ps3_gwas.assoc.linear\", delim_whitespace=True)\n",
    "fig, (ax0, ax1) = plt.subplots(1, 2, gridspec_kw={'width_ratios': [2, 1]})\n",
    "fig.set_size_inches((15, 5))\n",
    "fig.suptitle(\"Control: Problem Set 3, Question 2.1\")\n",
    "qqman.manhattan(data, ax=ax0)\n",
    "qqman.qqplot(data, ax=ax1) "
   ]
  }
 ],
 "metadata": {
  "kernelspec": {
   "display_name": "Python 3",
   "language": "python",
   "name": "python3"
  },
  "language_info": {
   "codemirror_mode": {
    "name": "ipython",
    "version": 3
   },
   "file_extension": ".py",
   "mimetype": "text/x-python",
   "name": "python",
   "nbconvert_exporter": "python",
   "pygments_lexer": "ipython3",
   "version": "3.10.11"
  }
 },
 "nbformat": 4,
 "nbformat_minor": 2
}
